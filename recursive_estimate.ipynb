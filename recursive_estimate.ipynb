{
 "cells": [
  {
   "cell_type": "markdown",
   "metadata": {},
   "source": [
    "### Recursive Estimate"
   ]
  },
  {
   "cell_type": "markdown",
   "metadata": {},
   "source": [
    "**A note on this document**\n",
    "This document is known as a Jupyter notebook; it allows text and executable code to coexist in a very easy-to-read format. Blocks can contain text or executable code. For blocks containing code, press `Shift + Enter`, `Ctrl+Enter`, or `click the arrow` on the block to run the code. Earlier blocks of code need to be run for the later blocks of code to work."
   ]
  },
  {
   "cell_type": "markdown",
   "metadata": {},
   "source": [
    "In class, we learned that the optimal estimate of sequential measurements is recursivley given by\n",
    "\n",
    "$$K_n = \\frac{\\hat{\\sigma}_{n-1}^2}{\\hat{\\sigma}_{n-1}^2 + \\sigma_{n}^2}$$\n",
    "$$\\hat{x}_n = \\hat{x}_{n-1} + K_n(y_n - \\hat{x}_{n-1})$$\n",
    "$$\\hat{\\sigma}_n^2 = (1-K_n)\\hat{\\sigma}_{n-1}^2$$\n",
    "\n",
    "where\n",
    "- $y_n$ is the measurement of an unknown value $x$ at time step $n$.\n",
    "- $\\sigma_n^2$ is the variance of the measurement $y_n$.\n",
    "- $\\hat{x}_n$ is the optimal estimate of $x$ given the measurements $Y_n = {y_1, \\cdots y_n}$ \n",
    "- $\\hat{\\sigma}_n^2$ is the variance (uncertainty) of the optimal estimate $\\hat{x}_n$.\n",
    "- $K_n$ is the Kalman gain at the time step $n$.\n",
    "\n"
   ]
  },
  {
   "cell_type": "code",
   "execution_count": 1,
   "metadata": {},
   "outputs": [
    {
     "name": "stdout",
     "output_type": "stream",
     "text": [
      "    time          y\n",
      "0   0.00  59.401462\n",
      "1   0.25  62.952926\n",
      "2   0.50  76.171217\n",
      "3   0.75  74.931045\n",
      "4   1.00  76.726497\n",
      "5   1.25  74.258851\n",
      "6   1.50  81.124459\n",
      "7   1.75  77.286160\n",
      "8   2.00  80.513922\n",
      "9   2.25  77.633406\n",
      "10  2.50  82.059796\n",
      "11  2.75  80.224779\n",
      "12  3.00  75.036655\n",
      "13  3.25  74.792392\n",
      "14  3.50  65.561716\n",
      "15  3.75  60.081610\n",
      "16  4.00  63.303967\n",
      "17  4.25  57.099935\n",
      "18  4.50  53.247288\n",
      "19  4.75  53.900745\n",
      "20  5.00  41.194168\n",
      "21  5.25  26.200127\n",
      "22  5.50  26.141728\n",
      "23  5.75   7.619361\n",
      "24  6.00   1.633062\n"
     ]
    }
   ],
   "source": [
    "import numpy as np\n",
    "import matplotlib.pyplot as plt\n",
    "import pandas as pd\n",
    "\n",
    "# Instructors only\n",
    "y0 = 60\n",
    "v0 = 20\n",
    "g = -9.8067\n",
    "\n",
    "\n",
    "data = pd.read_csv(\"./data/falling_body.csv\")\n",
    "print(data)"
   ]
  },
  {
   "cell_type": "markdown",
   "metadata": {},
   "source": [
    "We can convert the Data Frame data into numpy arrays:  "
   ]
  },
  {
   "cell_type": "code",
   "execution_count": null,
   "metadata": {},
   "outputs": [],
   "source": [
    "t = data[\"time\"].to_numpy()\n",
    "y = data[\"y\"].to_numpy()\n",
    "print(t)\n",
    "print(y)"
   ]
  },
  {
   "cell_type": "markdown",
   "metadata": {},
   "source": [
    "Plot the data"
   ]
  },
  {
   "cell_type": "code",
   "execution_count": null,
   "metadata": {},
   "outputs": [],
   "source": [
    "plt.figure(figsize=(5, 4))\n",
    "plt.plot(t, y, \"o\")\n",
    "plt.xlabel(\"time, sec\")\n",
    "plt.ylabel(\"height (y), m\", rotation=90)\n",
    "plt.grid(True)"
   ]
  },
  {
   "cell_type": "markdown",
   "metadata": {},
   "source": [
    "Let's use `np.polyfit` to find the best polynomial function fit.\n",
    "If our model is $\\hat{y} = at + b$, we want to use a first-order polynomial function."
   ]
  },
  {
   "cell_type": "code",
   "execution_count": null,
   "metadata": {},
   "outputs": [],
   "source": [
    "coeffs = np.polyfit(t, y, 1)\n",
    "print(coeffs)  # the first element is the slope and the second is the y-intercept."
   ]
  },
  {
   "cell_type": "markdown",
   "metadata": {},
   "source": [
    "The first element in the `coeffs` array represents the slope denoted as $a$, while the second element corresponds to the $y$-intercept labeled as $b$. Employing the `np.poly1d()` function enables us to generate a polynomial function with the coefficients of our preference. To illustrate:\n",
    "\n",
    "```python\n",
    "f = np.poly1d(c)\n",
    "```\n",
    "\n",
    "This code snippet generates a function $f = c_0x^n + c_1x^{n-1} + \\cdots + c_{n-1}x + c_n$ with coefficients encapsulated within the vector $\\mathbf{c}$.\n",
    "\n",
    "In our specific scenario, using `np.poly1d(coeffs)` furnishes us with $y(t)$. Consequently, by supplying $t$ to the $y(t)$ function through `np.poly1d(coeffs)(t)`, denoted as `y(t) = np.poly1d(coeffs)(t)`, we achieve the desired output."
   ]
  },
  {
   "cell_type": "code",
   "execution_count": null,
   "metadata": {},
   "outputs": [],
   "source": [
    "y_hat = np.poly1d(coeffs)(t)\n",
    "\n",
    "fig = plt.figure(figsize=(5, 4))\n",
    "ax = fig.add_subplot()\n",
    "\n",
    "plt.plot(t, y, \"o\")  # plot the measured data\n",
    "plt.plot(t, y_hat, \"-\")  # plot the fitted line\n",
    "plt.xlabel(\"time, sec\")\n",
    "plt.ylabel(\"height (y), m\", rotation=90)\n",
    "plt.grid(True)\n",
    "\n",
    "ax.text(2, 40, \"M=1\", style=\"italic\")"
   ]
  },
  {
   "cell_type": "markdown",
   "metadata": {},
   "source": [
    "The line doesn't align well with the measurements. Let's examine the discrepancies (residuals) and the root mean squared error (RMSE). The residual (error) is calculated as $y-\\hat{y}$. The RMSE is then computed using the following formula:\n",
    "\n",
    "$$ RMSE = \\sqrt{\\frac{1}{n}\\sum^{n}_{i=0}(y_i-\\hat{y}_i)^2}$$\n",
    "\n",
    "In the realm of linear algebra, the norm of a vector is defined as:\n",
    "\n",
    "$$||\\mathbf{v}|| = \\sqrt{\\sum^{n}_{i=0}v^2_i}$$\n",
    "\n",
    "Consequently, we can express the RMSE using the vector norm as:\n",
    "\n",
    "$$RMSE = \\frac{1}{\\sqrt{n}}||\\mathbf{v}|| $$\n",
    "\n",
    "Here is how we can find the RMSE:"
   ]
  },
  {
   "cell_type": "code",
   "execution_count": null,
   "metadata": {},
   "outputs": [],
   "source": [
    "rmse = np.linalg.norm(y - y_hat) / np.sqrt(len(t))\n",
    "print(rmse)"
   ]
  },
  {
   "cell_type": "markdown",
   "metadata": {},
   "source": [
    "Let's now experiment with a quadratic function for our model, represented as $\\hat{y} = at^2 + bt+c$"
   ]
  },
  {
   "cell_type": "code",
   "execution_count": null,
   "metadata": {},
   "outputs": [],
   "source": [
    "coeffs = np.polyfit(t, y, 2)\n",
    "print(coeffs)  # the first element is the slope and the second is the y-intercept."
   ]
  },
  {
   "cell_type": "code",
   "execution_count": null,
   "metadata": {},
   "outputs": [],
   "source": [
    "y_hat = np.poly1d(coeffs)(t)\n",
    "\n",
    "fig = plt.figure(figsize=(5, 4))\n",
    "ax = fig.add_subplot()\n",
    "\n",
    "plt.plot(t, y, \"o\")  # plot the measured data\n",
    "plt.plot(t, y_hat, \"-\")  # plot the fitted line\n",
    "plt.xlabel(\"time, sec\")\n",
    "plt.ylabel(\"height (y), m\", rotation=90)\n",
    "plt.grid(True)\n",
    "\n",
    "ax.text(2, 40, \"M=2\", style=\"italic\")"
   ]
  },
  {
   "cell_type": "markdown",
   "metadata": {},
   "source": [
    "To find the RMSE"
   ]
  },
  {
   "cell_type": "code",
   "execution_count": null,
   "metadata": {},
   "outputs": [],
   "source": [
    "rmse = np.linalg.norm(y - y_hat) / np.sqrt(len(t))\n",
    "print(rmse)"
   ]
  },
  {
   "cell_type": "markdown",
   "metadata": {},
   "source": [
    "The quadratic model exhibits a significantly lower RMSE compared to the first-order model.  Let's now try with a forth-order polynomial function."
   ]
  },
  {
   "cell_type": "code",
   "execution_count": null,
   "metadata": {},
   "outputs": [],
   "source": [
    "coeffs = np.polyfit(t, y, 4)\n",
    "print(coeffs)  # the first element is the slope and the second is the y-intercept.\n",
    "\n",
    "y_hat = np.poly1d(coeffs)(t)\n",
    "\n",
    "fig = plt.figure(figsize=(5, 4))\n",
    "ax = fig.add_subplot()\n",
    "\n",
    "plt.plot(t, y, \"o\")  # plot the measured data\n",
    "plt.plot(t, y_hat, \"-\")  # plot the fitted line\n",
    "plt.xlabel(\"time, sec\")\n",
    "plt.ylabel(\"height (y), m\", rotation=90)\n",
    "plt.grid(True)\n",
    "\n",
    "ax.text(2, 40, \"M=4\", style=\"italic\")"
   ]
  },
  {
   "cell_type": "code",
   "execution_count": null,
   "metadata": {},
   "outputs": [],
   "source": [
    "rmse = np.linalg.norm(y - y_hat) / np.sqrt(len(t))\n",
    "print(rmse)"
   ]
  },
  {
   "cell_type": "markdown",
   "metadata": {},
   "source": [
    "The fourth-order polynomial function demonstrates a slightly reduced RMSE in comparison to the second-order model. We'll delve deeper into fitting models of higher orders and address concerns related to overfitting.\n",
    "\n",
    "Moving forward, let's address the problem using the least square estimate method. We need to formulate a system of linear equations as follow\n",
    "\n",
    "$\\begin{bmatrix} y_1 \\\\ y_2 \\\\ \\vdots \\\\ y_n \\end{bmatrix}  = \\begin{bmatrix} t^2_1 & t_1 & 1 \\\\ t^2_2 & t_2 & 1 \\\\ \\vdots & \\vdots & \\vdots \\\\ t^2_n & t_n & 1 \\end{bmatrix} \\begin{bmatrix} a \\\\ b \\\\c \\end{bmatrix}\n",
    "$\n",
    "\n",
    "or $\\mathbf{y} = C\\mathbf{q}$ where\n",
    "\n",
    "$\\mathbf{y} = [y_1 \\quad y_2 \\quad \\cdots \\quad y_n]^\\top$,  $\\mathbf{q} = [a \\quad b \\quad c]^\\top$, and  $C = \\begin{bmatrix} t^2_1 & t_1 & 1 \\\\ t^2_2 & t_2 & 1 \\\\ \\vdots & \\vdots & \\vdots \\\\ t^2_n & t_n & 1 \\end{bmatrix} $\n",
    "\n",
    "We can formulate $C$ using `np.stack()`. Make sure $C$ is an $n \\times 3$ matrix, i.e., $C\\in\\mathbb{R}^{n\\times 3}$  "
   ]
  },
  {
   "cell_type": "code",
   "execution_count": null,
   "metadata": {},
   "outputs": [],
   "source": [
    "C = np.vstack([t**2, t, np.ones_like(t)]).T\n",
    "print(C.shape)\n",
    "print(C)"
   ]
  },
  {
   "cell_type": "markdown",
   "metadata": {},
   "source": [
    "The psedu-inverse of the matrix, $C$ is given by $\\tilde{C} = (C^{\\top}C)^{-1}C^{\\top}$.  In Python, we can use `np.linalg.pinv()` to find it.  The dimension should be 3 by $n$."
   ]
  },
  {
   "cell_type": "code",
   "execution_count": null,
   "metadata": {},
   "outputs": [],
   "source": [
    "pinvC = np.linalg.pinv(C)\n",
    "print(pinvC.shape)\n",
    "print(C)"
   ]
  },
  {
   "cell_type": "markdown",
   "metadata": {},
   "source": [
    "We can now find $\\mathbf{q} = [a \\quad b \\quad c]^\\top$:\n",
    "\n",
    "$\\mathbf{q} = \\tilde{C}\\mathbf{y} = (C^{\\top}C)^{-1}C^{\\top}\\mathbf{y}$"
   ]
  },
  {
   "cell_type": "code",
   "execution_count": null,
   "metadata": {},
   "outputs": [],
   "source": [
    "q = pinvC @ y\n",
    "print(q)"
   ]
  },
  {
   "cell_type": "markdown",
   "metadata": {},
   "source": [
    "The values in xhat match the coefficients of the quadratic model obtained through the `np.polyfit` function."
   ]
  },
  {
   "cell_type": "code",
   "execution_count": null,
   "metadata": {},
   "outputs": [],
   "source": [
    "y_hat = np.poly1d(q)(t)\n",
    "\n",
    "fig = plt.figure(figsize=(5, 4))\n",
    "ax = fig.add_subplot()\n",
    "\n",
    "plt.plot(t, y, \"o\")  # plot the measured data\n",
    "plt.plot(t, y_hat, \"-\")  # plot the fitted line\n",
    "plt.xlabel(\"time, sec\")\n",
    "plt.ylabel(\"height (y), m\", rotation=90)\n",
    "plt.grid(True)\n",
    "\n",
    "ax.text(2, 40, \"M=2\", style=\"italic\")"
   ]
  },
  {
   "cell_type": "markdown",
   "metadata": {},
   "source": [
    "Another approach is to utilize the `np.linalg.lstsq` function to compute the least square estimate."
   ]
  },
  {
   "cell_type": "code",
   "execution_count": null,
   "metadata": {},
   "outputs": [],
   "source": [
    "q = np.linalg.lstsq(C, y, rcond=None)[0]\n",
    "print(q)"
   ]
  },
  {
   "cell_type": "code",
   "execution_count": null,
   "metadata": {},
   "outputs": [],
   "source": [
    "help(np.linalg.lstsq)"
   ]
  }
 ],
 "metadata": {
  "kernelspec": {
   "display_name": ".venv",
   "language": "python",
   "name": "python3"
  },
  "language_info": {
   "codemirror_mode": {
    "name": "ipython",
    "version": 3
   },
   "file_extension": ".py",
   "mimetype": "text/x-python",
   "name": "python",
   "nbconvert_exporter": "python",
   "pygments_lexer": "ipython3",
   "version": "3.10.11"
  },
  "orig_nbformat": 4
 },
 "nbformat": 4,
 "nbformat_minor": 2
}
